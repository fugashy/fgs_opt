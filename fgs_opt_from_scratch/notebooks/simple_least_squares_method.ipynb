{
 "cells": [
  {
   "cell_type": "markdown",
   "metadata": {},
   "source": [
    "# (線形関数の)最小二乗法入門\n",
    "\n",
    "## 目的\n",
    "\n",
    "- 普段やっているかもしれない直線モデルへの当てはめを数式レベルで体得する\n",
    "\n",
    "## なにもの？\n",
    "\n",
    "データからモデル(数式)を推定する方法\n",
    "\n",
    "(こういう数式に基づく現象のハズなんだけど，正確なパラメータがわからない)\n",
    "\n",
    "## 例\n",
    "\n",
    "- エクセルで2Dの散布図のデータの直線近似でどんな特性かを計算する\n",
    "\n",
    "## 今回は\n",
    "\n",
    "単純な直線を扱ってみる\n",
    "\n",
    "$$\n",
    "y = f(x) = ax + b\n",
    "$$\n",
    "\n",
    "手始めに直線をプロットしよう"
   ]
  },
  {
   "cell_type": "code",
   "execution_count": 13,
   "metadata": {},
   "outputs": [
    {
     "data": {
      "image/png": "[encoded data removed]",
      "text/plain": [
       "<Figure size 432x288 with 1 Axes>"
      ]
     },
     "metadata": {
      "needs_background": "light"
     },
     "output_type": "display_data"
    }
   ],
   "source": [
    "# 描画ライブラリ\n",
    "import matplotlib.pyplot as plt\n",
    "# 行列計算ライブラリ\n",
    "import numpy as np\n",
    "\n",
    "# 関数オブジェクトを作る\n",
    "a = 3.\n",
    "b = 5.\n",
    "f = lambda x: a * x + b\n",
    "\n",
    "xs = [x for x in np.arange(-10., 10., 0.5)]\n",
    "fxs = [f(x) for x in xs]\n",
    "\n",
    "plt.scatter(xs, fxs, marker='.')\n",
    "plt.show()"
   ]
  },
  {
   "cell_type": "markdown",
   "metadata": {},
   "source": [
    "これはモデル（数式）に完全に従っているデータとなる\n",
    "\n",
    "（モデルからデータを生成しているので，そりゃそうだ）\n",
    "\n",
    "やりたいのは逆で，データからモデルを推定すること\n",
    "\n",
    "なので，\n",
    "\n",
    "- データにノイズを加えて\n",
    "\n",
    "- そのデータから，データ生成元であるモデルを推定したい\n",
    "\n",
    "まずはノイズを加える\n",
    "\n",
    "つまり，\n",
    "\n",
    "$$\n",
    "y = f(x) + \\epsilon = ax + b + \\epsilon\n",
    "$$\n",
    "\n",
    "$\\epsilon$はノイズ項（ただし，平均0の正規分布に基づくものとする）"
   ]
  },
  {
   "cell_type": "code",
   "execution_count": 18,
   "metadata": {},
   "outputs": [
    {
     "data": {
      "image/png": "[encoded data removed]",
      "text/plain": [
       "<Figure size 432x288 with 1 Axes>"
      ]
     },
     "metadata": {
      "needs_background": "light"
     },
     "output_type": "display_data"
    }
   ],
   "source": [
    "fxs_noised = [f(x) + np.random.normal(0., 2.) for x in xs]\n",
    "\n",
    "plt.scatter(xs, fxs_noised, marker='.', color='red')\n",
    "plt.plot(xs, fxs)\n",
    "plt.show()"
   ]
  },
  {
   "cell_type": "markdown",
   "metadata": {},
   "source": [
    "赤い点がノイズを付与したもの\n",
    "\n",
    "この赤点群から，もとの直線のパラメータ$a$, $b$を求めていく\n",
    "\n",
    "ここで，赤点を次のように表現する\n",
    "\n",
    "$$\n",
    "(x_{1}, y_{1}), (x_{2}, y_{2}), \\dots , (x_{n}, y_{n}), \\dots , (x_{N}, y_{N})\n",
    "$$\n",
    "\n",
    "Nは点の数\n",
    "\n",
    "今回は"
   ]
  },
  {
   "cell_type": "code",
   "execution_count": 19,
   "metadata": {},
   "outputs": [
    {
     "name": "stdout",
     "output_type": "stream",
     "text": [
      "N = 40\n"
     ]
    }
   ],
   "source": [
    "print('N = {}'.format(len(xs)))"
   ]
  },
  {
   "cell_type": "markdown",
   "metadata": {},
   "source": [
    "推定したいパラメータ$a$, $b$の直線と，赤点からエラー関数を考える\n",
    "\n",
    "説明図を下記にプロットする"
   ]
  },
  {
   "cell_type": "code",
   "execution_count": 79,
   "metadata": {},
   "outputs": [
    {
     "data": {
      "image/png": "[encoded data removed]",
      "text/plain": [
       "<Figure size 432x288 with 1 Axes>"
      ]
     },
     "metadata": {},
     "output_type": "display_data"
    }
   ],
   "source": [
    "fig, ax = plt.subplots()\n",
    "ax.scatter(xs, fxs_noised, marker='.', color='red')\n",
    "ax.plot(xs, fxs)\n",
    "ax.set_xlim(-1.5, -0.5)\n",
    "ax.set_ylim(1., 4.)\n",
    "\n",
    "ax.annotate(\n",
    "    '', (-1., 2.), (-1., 1.),\n",
    "    size=15, arrowprops={\"arrowstyle\": \"-|>\"})\n",
    "ax.text(-0.95 , 1.5,'a * xn + b', size=15)\n",
    "ax.annotate(\n",
    "    '', (-1.03, 2.75), (-1.03, 1.),\n",
    "    size=15, arrowprops={\"arrowstyle\": \"-|>\"})\n",
    "ax.text(-1. , 2.3,'yn', size=15)\n",
    "\n",
    "plt.tick_params(labelbottom=False, labelleft=False)\n",
    "plt.show()"
   ]
  },
  {
   "cell_type": "markdown",
   "metadata": {},
   "source": [
    "## エラー関数を決める\n",
    "\n",
    "- 赤点は$(x_{n}, y_{n})$の位置にある．そのy軸の値は$y_{n}$\n",
    "\n",
    "- 直線$ax + b$の$x$に$x_{n}$を代入したもの\n",
    "\n",
    "上記の差が誤差であると考えると，\n",
    "\n",
    "$$\n",
    "y_{n} - (ax_{n} + b)\n",
    "$$\n",
    "\n",
    "と書ける\n",
    "\n",
    "今は誤差の大きさを問題とするため，2乗する\n",
    "\n",
    "(なぜ絶対値じゃなくて2乗するのかはこのあとわかってくるかもしれない)\n",
    "\n",
    "$$\n",
    "\\{y_{n} - (ax_{n} + b)\\}^{2}\n",
    "$$\n",
    "\n",
    "これをすべての点について考える．総和をとって\n",
    "\n",
    "$$\n",
    "\\sum_{n = 1}^{N}\\{y_{n} - (ax_{n} + b)\\}^{2}\n",
    "$$\n",
    "\n",
    "後の処理でいろいろ楽になるので$\\frac{1}{2}$かけた関数$J$を\n",
    "\n",
    "$$\n",
    "J = \\frac{1}{2} \\sum_{n = 1}^{N}\\{y_{n} - (ax_{n} + b)\\}^{2}\n",
    "$$\n",
    "\n",
    "この関数$J$の値が最小になるようなパラメータ$a$, $b$を求める\n",
    "\n",
    "## どうやって？\n",
    "\n",
    "- 関数$J(a, b)$を考えて\n",
    "\n",
    "- $a$, $b$それぞれで偏微分してそれぞれ0となるようなパラメータが\n",
    "\n",
    "- もっともらしいパラメータである\n",
    "\n",
    "いま，関数$J(a, b)$は，下に凸な2次関数\n",
    "\n",
    "最小になるときは，勾配が0になるはず\n",
    "\n",
    "勾配が0というのは，偏微分したらその値が0になるのと同義\n",
    "\n",
    "つまり\n",
    "\n",
    "$$\n",
    "\\begin{eqnarray}\n",
    "\\frac{\\partial J}{\\partial a}\n",
    "& = & \\sum_{n=1}^{N}(y_{n} - ax_{n} - b)(-x_{n}) \\\\\n",
    "& = & a \\sum_{n=1}^{N} x_{n}^{2} + b \\sum_{n=1}^{N}x_{n} - \\sum_{n=1}^{N} x_{n}y_{n} = 0 \\\\\n",
    "\\frac{\\partial J}{\\partial b}\n",
    "& = & \\sum_{n=1}^{N}(y_{n} - ax_{n} - b)(-1) \\\\\n",
    "& = & a \\sum_{n=1}^{N} x_{n} + b \\sum_{n=1}^{N}1 - \\sum_{n=1}^{N}y_{n} = 0 \\\\\n",
    "\\end{eqnarray}\n",
    "$$\n",
    "\n",
    "これを整理すると\n",
    "\n",
    "$$\n",
    "\\left(\n",
    "    \\begin{array}{cc}\n",
    "        \\sum_{n=1}^{N}x_{n}^{2} & \\sum_{n=1}^{N}x_{n} \\\\\n",
    "        \\sum_{n=1}^{N}x_{n} & \\sum_{n=1}^{N}1\n",
    "    \\end{array}\n",
    "\\right)\n",
    "\\left(\n",
    "    \\begin{array}{cc}\n",
    "        a \\\\\n",
    "        b\n",
    "    \\end{array}\n",
    "\\right) = \n",
    "\\left(\n",
    "    \\begin{array}{cc}\n",
    "        \\sum_{n=1}^{N}x_{n}y_{n}\\\\\n",
    "        \\sum_{n=1}^{N}y_{n}\n",
    "    \\end{array}\n",
    "\\right)\n",
    "$$\n",
    "\n",
    "となる．\n",
    "\n",
    "これを解けばパラメータ$a$, $b$が求まる\n",
    "\n",
    "numpyでやってみる"
   ]
  },
  {
   "cell_type": "code",
   "execution_count": 97,
   "metadata": {},
   "outputs": [
    {
     "name": "stdout",
     "output_type": "stream",
     "text": [
      "A:\n",
      "[[1335.  -10.]\n",
      " [ -10.   40.]]\n",
      "B:\n",
      "[[4019.57522044]\n",
      " [ 177.23526476]]\n"
     ]
    }
   ],
   "source": [
    "# 左辺の行列部分\n",
    "a_00 = sum([x**2 for x in xs])\n",
    "a_01 = sum(xs)\n",
    "a_10 = a_01\n",
    "a_11 = sum([1 for x in xs])\n",
    "A = np.array([[a_00, a_01], [a_10, a_11]])\n",
    "print('A:\\n{}'.format(A))\n",
    "\n",
    "# 右辺の行列部分\n",
    "b_00 = sum([x * y for x, y in zip(xs, fxs_noised)])\n",
    "b_10 = sum(fxs_noised)\n",
    "B = np.array([[b_00], [b_10]])\n",
    "print('B:\\n{}'.format(B))"
   ]
  },
  {
   "cell_type": "code",
   "execution_count": 100,
   "metadata": {},
   "outputs": [
    {
     "name": "stdout",
     "output_type": "stream",
     "text": [
      "a = 3.049819164450092\n",
      "b = 5.193336410183068\n"
     ]
    }
   ],
   "source": [
    "# 解く\n",
    "# Aの逆行列を両辺に書けると求まる\n",
    "C = np.linalg.inv(A) @ B\n",
    "\n",
    "print('a = {}'.format(C[0,0]))\n",
    "print('b = {}'.format(C[1,0]))"
   ]
  },
  {
   "cell_type": "markdown",
   "metadata": {},
   "source": [
    "最初の方で設定したパラメータと近い値が得られた\n",
    "\n",
    "データがもっと沢山あればより近くなるはず\n",
    "\n",
    "## まとめ\n",
    "\n",
    "最小2乗法は，\n",
    "\n",
    "- データからモデルのパラメータを推定する方法の一つ\n",
    "\n",
    "- エラー関数を定義し，それの値を最小化するようなパラメータを求める\n",
    "\n",
    "- このとき，偏微分や行列計算などの知識が求められる\n",
    "\n",
    "## ただし\n",
    "\n",
    "- 出力に含まれるノイズが平均0の正規分布であると仮定しないと使えない\n",
    "\n",
    "- 線形な関数は，ロボティクスではほぼあらわれない\n",
    "\n",
    "- ロボティクスへの応用を考えたら，この方法をもっと一般化する必要がある"
   ]
  }
 ],
 "metadata": {
  "kernelspec": {
   "display_name": "Python 3",
   "language": "python",
   "name": "python3"
  },
  "language_info": {
   "codemirror_mode": {
    "name": "ipython",
    "version": 3
   },
   "file_extension": ".py",
   "mimetype": "text/x-python",
   "name": "python",
   "nbconvert_exporter": "python",
   "pygments_lexer": "ipython3",
   "version": "3.7.4"
  }
 },
 "nbformat": 4,
 "nbformat_minor": 2
}
