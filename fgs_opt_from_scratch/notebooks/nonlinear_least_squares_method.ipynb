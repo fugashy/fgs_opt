{
 "cells": [
  {
   "cell_type": "markdown",
   "metadata": {},
   "source": [
    "# 非線形最小自乗法入門\n",
    "\n",
    "ロボティクスに限らず，こちらがいろんな分野で使われている\n",
    "\n",
    "ロボティクスでは，\n",
    "\n",
    "- カメラキャリブレーション(焦点距離や画像中心を，チェスボードの格子点観測データから推定する)\n",
    "\n",
    "- SLAMで行う自己位置更新（ものによるが）\n",
    "\n",
    "## 線形と非線形の区別\n",
    "\n",
    "- パラメータが変数と線形結合しているかどうか\n",
    "\n",
    "線形結合(かけたり，足してるだけ)\n",
    "\n",
    "$$\n",
    "ax, ax^{2}, x + b\n",
    "$$\n",
    "\n",
    "そうじゃないパターンが非線形\n",
    "\n",
    "$$\n",
    "\\frac{x}{a}, x^{a}, \\cos{a}\n",
    "$$\n",
    "\n",
    "線形モデルと異なり，非線形モデルパラメータは連立方程式を解いて求めることができない\n",
    "\n",
    "なので\n",
    "\n",
    "- あるパラメータを出発点として，\n",
    "\n",
    "- 反復的に\n",
    "\n",
    "- よりもっともらしい値になるように\n",
    "\n",
    "- パラメータを更新する\n",
    "\n",
    "ということを行う\n",
    "\n",
    "T.B.D"
   ]
  }
 ],
 "metadata": {
  "kernelspec": {
   "display_name": "Python 3",
   "language": "python",
   "name": "python3"
  },
  "language_info": {
   "codemirror_mode": {
    "name": "ipython",
    "version": 3
   },
   "file_extension": ".py",
   "mimetype": "text/x-python",
   "name": "python",
   "nbconvert_exporter": "python",
   "pygments_lexer": "ipython3",
   "version": "3.7.4"
  }
 },
 "nbformat": 4,
 "nbformat_minor": 2
}
